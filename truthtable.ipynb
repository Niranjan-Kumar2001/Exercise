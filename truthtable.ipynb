{
  "nbformat": 4,
  "nbformat_minor": 0,
  "metadata": {
    "colab": {
      "name": "Untitled38.ipynb",
      "provenance": [],
      "authorship_tag": "ABX9TyPY9NQ5YAT+YC105EwIXRfr",
      "include_colab_link": true
    },
    "kernelspec": {
      "name": "python3",
      "display_name": "Python 3"
    },
    "language_info": {
      "name": "python"
    }
  },
  "cells": [
    {
      "cell_type": "markdown",
      "metadata": {
        "id": "view-in-github",
        "colab_type": "text"
      },
      "source": [
        "<a href=\"https://colab.research.google.com/github/Niranjan-Kumar2001/Exercise/blob/main/truthtable.ipynb\" target=\"_parent\"><img src=\"https://colab.research.google.com/assets/colab-badge.svg\" alt=\"Open In Colab\"/></a>"
      ]
    },
    {
      "cell_type": "code",
      "execution_count": 14,
      "metadata": {
        "colab": {
          "base_uri": "https://localhost:8080/"
        },
        "id": "Jb1XKBudouHG",
        "outputId": "aa2a8410-4f43-4dd3-9dc0-cbf326a42949"
      },
      "outputs": [
        {
          "output_type": "stream",
          "name": "stdout",
          "text": [
            "Writing exercise.py\n"
          ]
        }
      ],
      "source": [
        "%%writefile -a exercise.py\n",
        "n =int(input())\n",
        "tt = []\n",
        "for i in range(2**n):\n",
        "  arr=[]\n",
        "  for j in range(n):\n",
        "    arr.append(i//2**j%2)\n",
        "  tt.append(arr)\n",
        "print(tt)"
      ]
    }
  ]
}